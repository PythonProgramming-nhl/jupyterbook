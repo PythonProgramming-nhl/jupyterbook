{
 "cells": [
  {
   "cell_type": "code",
   "execution_count": 1,
   "metadata": {},
   "outputs": [],
   "source": [
    "# Define helper function\n",
    "from pytest import approx\n",
    "def error_message(actual, expected):\n",
    "    return f'Actual {actual} != Expected {expected}'"
   ]
  },
  {
   "cell_type": "code",
   "execution_count": 3,
   "metadata": {},
   "outputs": [
    {
     "data": {
      "text/plain": [
       "True"
      ]
     },
     "execution_count": 3,
     "metadata": {},
     "output_type": "execute_result"
    }
   ],
   "source": [
    "type([1, 2]) == list "
   ]
  },
  {
   "cell_type": "code",
   "execution_count": 9,
   "metadata": {},
   "outputs": [
    {
     "ename": "TypeError",
     "evalue": "'int' object is not iterable",
     "output_type": "error",
     "traceback": [
      "\u001b[0;31m---------------------------------------------------------------------------\u001b[0m",
      "\u001b[0;31mTypeError\u001b[0m                                 Traceback (most recent call last)",
      "Cell \u001b[0;32mIn[9], line 1\u001b[0m\n\u001b[0;32m----> 1\u001b[0m \u001b[38;5;28;01mfor\u001b[39;00m i \u001b[38;5;129;01min\u001b[39;00m \u001b[38;5;241m2\u001b[39m:\n\u001b[1;32m      2\u001b[0m     \u001b[38;5;28mprint\u001b[39m(i)\n",
      "\u001b[0;31mTypeError\u001b[0m: 'int' object is not iterable"
     ]
    }
   ],
   "source": [
    "for i in []:\n",
    "    print(i)"
   ]
  },
  {
   "attachments": {},
   "cell_type": "markdown",
   "metadata": {},
   "source": [
    "# Lecture 5 - Input/output\n",
    "\n",
    "**Reading numeric data**\n",
    " \n",
    "* All reading/writing is done with text objects, i.e. reading a '7' will be type `str` with a single character rather than a numeric value. \n",
    "* To get numbers from file intended for computation we have to do a type conversion (typically `int` or `float`)\n",
    "\n",
    "The following syntax: \n",
    "```Python\n",
    "with open(filename, mode) as file:\n",
    "    # do stuff\n",
    "```\n",
    "\n",
    "* file is a File Object that can be iterated with each each element being a line in the file.\n",
    "* The `with` statement simplifies the management of files because it defines the scope of `file` and closes the object automatically when leaving the `with` block.\n",
    "\n",
    "In other words, the `with` syntax replaces the following:\n",
    "\n",
    "```python\n",
    "file = open(filename, mode)\n",
    "# do stuff\n",
    "file.close()\n",
    "```\n",
    "\n",
    "**Some possible values for `mode`:**\n",
    "* `'r'` - open for reading\n",
    "* `'w'` - open for writing - this mode implies that a completely new file is written\n",
    "* `'a'` - open for writing in append mode - writes to the end of the file (i.e., if the file already exists, it will append to it, otherwise it will create a new file)\n",
    "\n",
    "For more access modes, see: https://docs.python.org/3/library/functions.html#open \n",
    "\n",
    "It is also possible to read binary file format but we will not use it in this course. But as always - check it out on your own.\n",
    "\n",
    "**Reading data from text file**\n",
    "* `file.readline()` – reads a line from the opened file into a string\n",
    "* `file.readlines()` – reads all lines from the opened file into a list of strings\n",
    "* `file.read()` - reads the entire opened file into a string\n",
    "* `for line in file:` - using the TextIOWrapper as iterable\n",
    "\n",
    "**Writing data to a text file**\n",
    "* `file.write()` - writes its input to the opened file without adding any extra characters, such as line-break characters (`\\n`)\n",
    "* `file.writelines()` - reads an iterable of strings (typically a list of strings) and writes each element to its own line in the opened file. No line break characters (`\\n`) are added "
   ]
  },
  {
   "cell_type": "code",
   "execution_count": 0,
   "metadata": {},
   "outputs": [],
   "source": [
    "# First, let us check the type of file in the two different open syntaxes\n",
    "# As an example, we will use the 'numbers_one_to_ten.txt' file which on subsequent lines contains the numbers from 1 to 10\n",
    "# Run the code below and check in the output of help() that file is an iterator ()\n",
    "\n",
    "# with statement\n",
    "with open('numbers_one_to_ten.txt', 'r') as file:\n",
    "    help(file)\n",
    "    \n",
    "# open/close statement\n",
    "file = open('numbers_one_to_ten.txt', 'r')\n",
    "help(file)\n",
    "file.close()"
   ]
  },
  {
   "attachments": {},
   "cell_type": "markdown",
   "metadata": {},
   "source": [
    "## Reading text files"
   ]
  },
  {
   "cell_type": "code",
   "execution_count": 0,
   "metadata": {},
   "outputs": [],
   "source": [
    "# Write code that can read in the file 'numbers_one_to_ten.txt'\n",
    "# Then compute and print the sum of the numbers in the variable sum\n",
    "\n",
    "sum = 0.0\n",
    "with open('numbers_one_to_ten.txt', 'r') as file:\n",
    "    \n",
    "    for line in file:\n",
    "        sum += float(line)\n",
    "\n",
    "print(sum) \n"
   ]
  },
  {
   "cell_type": "code",
   "execution_count": 0,
   "metadata": {},
   "outputs": [],
   "source": [
    "assert sum == 55, error_message(sum, 55)"
   ]
  },
  {
   "cell_type": "code",
   "execution_count": 0,
   "metadata": {},
   "outputs": [],
   "source": [
    "# Let us check what happens if the file you want to read does not exist\n",
    "# It should throw a FileNotFoundError\n",
    "\n",
    "open(\"file_that_does_not_exist.txt\", 'r')"
   ]
  },
  {
   "attachments": {},
   "cell_type": "markdown",
   "metadata": {},
   "source": [
    "We will now move to a slightly more complex file format.\n",
    "\n",
    "Specifically, we will consider xyz file format, which is a format used to specify the geometry of molecules. \n",
    "\n",
    "The format of this file type is as follows:\n",
    "```\n",
    "line 1: Number of atoms\n",
    "line 2: Title line\n",
    "line 3: Atom1 coord_x coord_y coord_z\n",
    "line 4: Atom2 coord_x coord_y coord_z\n",
    "... continue with atom entries for all atoms in the molecule\n",
    "```\n",
    "\n",
    "They have the following data types\n",
    "```\n",
    "line 1: int\n",
    "line 2: str\n",
    "line 3: str float float float\n",
    "line 4: str float float float\n",
    "... continue with atom entries for all atoms in the molecule\n",
    "```\n",
    "\n",
    "**Your task**\n",
    "Read in and store the coordinates of each atom in a list and create an `atom_list` list and an `atom_coords` list of lists\n",
    "where the coordinates of each atom is a list in the list\n",
    "\n",
    "* Remember to convert the coordinate values to float type which is their appropriate type\n",
    "* In this case, you cannot just map the line to a float because line now contains multiple values\n",
    "* One way to separate the values is by using the split() function on the line (that is, a string)"
   ]
  },
  {
   "cell_type": "code",
   "execution_count": 0,
   "metadata": {},
   "outputs": [],
   "source": [
    "# First, let us try it out with an example line from the file\n",
    "line = \"H1       1.2194     -0.1652      2.1600\"\n",
    "\n",
    "print(line.split())\n",
    "# So the line.split() returns a list of strings generated by splitting line at spaces (implied by the empty argument list to split).\n",
    "# We could define an arbitrary separator: \n",
    "\n",
    "# such as \"-\" \n",
    "print(line.split(\"-\"))\n",
    "\n",
    "# Or at \".\"\n",
    "print(line.split(\".\"))\n",
    "\n",
    "# Or even \"0.1652\"\n",
    "print(line.split(\"0.1652\"))"
   ]
  },
  {
   "cell_type": "code",
   "execution_count": 0,
   "metadata": {},
   "outputs": [],
   "source": [
    "# Reading the entire file into memory: \n",
    "# Read the file \"benzene.xyz\" using readlines() and fill in atom_list and atom_coords\n",
    "\n",
    "atom_list = []\n",
    "atom_coords = []\n",
    "\n",
    "with open(\"benzene.xyz\", 'r') as file:\n",
    "    \n",
    "    lines = file.readlines()\n",
    "    \n",
    "for idx, line in enumerate(lines):\n",
    "    if idx < 2:\n",
    "        continue\n",
    "    else:\n",
    "        string = line.split()\n",
    "        atom_list.append(string[0])\n",
    "        atom_coords.append([float(string[1]), float(string[2]), float(string[3])])\n",
    "\n",
    "print(atom_list)\n",
    "print(atom_coords)\n",
    "### END_SOLUTION"
   ]
  },
  {
   "cell_type": "code",
   "execution_count": 0,
   "metadata": {},
   "outputs": [],
   "source": [
    "assert atom_list[0] == \"H1\", error_message(atom_list[0], \"H1\")\n",
    "assert atom_coords[0] == [1.2194, -0.1652, 2.16], error_message(atom_coords[0], [1.2194, -0.1652, 2.16])\n",
    "assert atom_list[5] == \"H6\", error_message(atom_list[5], \"H6\")\n",
    "assert atom_coords[5] == [-2.4836, 0.1021, -0.0204] , error_message(atom_coords[5], [-2.4836, 0.1021, -0.0204])"
   ]
  },
  {
   "cell_type": "code",
   "execution_count": 0,
   "metadata": {},
   "outputs": [],
   "source": [
    "# Reading the file line-by-line:\n",
    "# Read in the same file but now line-by-line and fill in atom_list and atom_coords\n",
    "\n",
    "atom_list = []\n",
    "atom_coords = []\n",
    "\n",
    "with open(\"benzene.xyz\", \"r\") as file:\n",
    "    \n",
    "    # Read the two first lines without doing anything\n",
    "    file.readline()\n",
    "    file.readline()\n",
    "    \n",
    "    for line in file:\n",
    "        string = line.split()\n",
    "        atom_list.append(string[0])\n",
    "        atom_coords.append([float(string[1]), float(string[2]), float(string[3])])\n",
    "\n",
    "print(atom_list, atom_coords)\n"
   ]
  },
  {
   "cell_type": "code",
   "execution_count": 0,
   "metadata": {},
   "outputs": [],
   "source": [
    "assert atom_list[0] == \"H1\", error_message(atom_list[0], \"H1\")\n",
    "assert atom_coords[0] == [1.2194, -0.1652, 2.16], error_message(atom_coords[0], [1.2194, -0.1652, 2.16])\n",
    "assert atom_list[5] == \"H6\", error_message(atom_list[5], \"H6\")\n",
    "assert atom_coords[5] == [-2.4836, 0.1021, -0.0204] , error_message(atom_coords[5], [-2.4836, 0.1021, -0.0204])"
   ]
  },
  {
   "cell_type": "code",
   "execution_count": 0,
   "metadata": {},
   "outputs": [],
   "source": [
    "# Now convert your read xyz code block to a read_xyz function that takes a filename as input and returns the atom_list and atom_coords lists\n",
    "# Check that it can properly read in the benzene.xyz file\n",
    "\n",
    "def read_xyz(filename: str)->tuple:\n",
    "    \"\"\"Reads an xyz file and returns the list of atoms\n",
    "    and the coordinates as list of lists\n",
    "\n",
    "    Args:\n",
    "        filename (str): name of the xyz file\n",
    "\n",
    "    Returns:\n",
    "        tuple: atom list, coordinates\n",
    "    \"\"\"\n",
    "    atom_list = []\n",
    "    atom_coords = []\n",
    "    \n",
    "    with open(filename, \"r\") as file:\n",
    "    \n",
    "        # Read the two first lines without doing anything\n",
    "        file.readline()\n",
    "        file.readline()\n",
    "        \n",
    "        for line in file:\n",
    "            string = line.split()\n",
    "            atom_list.append(string[0])\n",
    "            atom_coords.append([float(string[1]), float(string[2]), float(string[3])])\n",
    "\n",
    "    return atom_list, atom_coords\n"
   ]
  },
  {
   "cell_type": "code",
   "execution_count": 0,
   "metadata": {},
   "outputs": [],
   "source": [
    "atom_list, atom_coords = read_xyz('benzene.xyz')\n",
    "print(atom_list)\n",
    "print(atom_coords)"
   ]
  },
  {
   "attachments": {},
   "cell_type": "markdown",
   "metadata": {},
   "source": [
    "Next, we will consider something more complicated.\n",
    "\n",
    "We have a file that contains a lot of data, and we are only interested in a very specific part of it\n",
    "\n",
    "The file we will be dealing with is named molcas.out, which is an output from OpenMolcas (a quantum chemistry program). \n",
    "\n",
    "In other words, it is an output containing quantum-mechanical information about a molecule.\n",
    "\n",
    "We are specifically interested in knowing the electronic energies of the molecule - the number printed in the following line starting with:\n",
    "\n",
    "```\n",
    "\"::    CASPT2 Root  1     Total energy\"\n",
    "```\n",
    "\n",
    "But there can be more than one of these lines, and we are interested in all of them. \n",
    "\n",
    "In this particular case, there are nine in total. The relevant output part looks like this but is \"hidden\" inside a very long file\n",
    "\n",
    "```\n",
    "       Total XMS-CASPT2 energies:\n",
    "::    XMS-CASPT2 Root  1     Total energy:  -7664.02011873\n",
    "::    XMS-CASPT2 Root  2     Total energy:  -7663.86538263\n",
    "::    XMS-CASPT2 Root  3     Total energy:  -7663.83034100\n",
    "::    XMS-CASPT2 Root  4     Total energy:  -7663.82724336\n",
    "::    XMS-CASPT2 Root  5     Total energy:  -7663.82401120\n",
    "::    XMS-CASPT2 Root  6     Total energy:  -7663.82386506\n",
    "::    XMS-CASPT2 Root  7     Total energy:  -7663.79797706\n",
    "::    XMS-CASPT2 Root  8     Total energy:  -7663.78384205\n",
    "::    XMS-CASPT2 Root  9     Total energy:  -7663.76782714\n",
    "```\n",
    "\n",
    "**Your task** \n",
    "\n",
    "* Write a function get_openmolcas_energies that takes the filename of a molcas file and reads the relevant energies\n",
    "* The function should return these energies as a dictionary named `energy_dict` with `key: value` pairs as `root_number` (`int` 1-9) : `energy` (`float`)"
   ]
  },
  {
   "cell_type": "code",
   "execution_count": 0,
   "metadata": {},
   "outputs": [],
   "source": [
    "def get_openmolcas_energies(filename: str)->dict[str:float]:\n",
    "    \"\"\"Reads OpenMolcas file and returns a \n",
    "    dictionary with key: value as root: XMS-CASPT2 energy\n",
    "\n",
    "    Args:\n",
    "        filename (str): OpenMolcas file to read\n",
    "\n",
    "    Returns:\n",
    "        dict[str:float]: key=root, value=XMS-CASPT2 energy\n",
    "    \"\"\"    \n",
    "    energy_dict = {}\n",
    "    \n",
    "    with open(filename, \"r\") as file:\n",
    "        \n",
    "        for line in file:\n",
    "            if \"XMS-CASPT2 Root\" in line:\n",
    "                line_split = line.split()\n",
    "                root_number = int(line_split[3])\n",
    "                energy = float(line_split[6])\n",
    "                energy_dict[root_number] = energy\n",
    "        \n",
    "    return energy_dict\n",
    "\n",
    "energy_dict = get_openmolcas_energies(\"molcas.out\")\n",
    "print(energy_dict)       "
   ]
  },
  {
   "cell_type": "code",
   "execution_count": 0,
   "metadata": {},
   "outputs": [],
   "source": [
    "assert type(energy_dict) == dict, error_message(type(energy_dict), dict)\n",
    "assert energy_dict[1] == -7664.02011873, error_message(energy_dict[1], -7664.02011873)\n",
    "assert energy_dict[5] == -7663.8240112, error_message(energy_dict[5], -7663.8240112)"
   ]
  },
  {
   "attachments": {},
   "cell_type": "markdown",
   "metadata": {},
   "source": [
    "## Writing files"
   ]
  },
  {
   "cell_type": "code",
   "execution_count": 0,
   "metadata": {},
   "outputs": [],
   "source": [
    "# Write a file analogous to numbers_one_to_ten.txt\n",
    "# Use the name numbers_one_to_ten_NEW.txt\n",
    "# Remember to change to write mode by using 'w'\n",
    "# Also remember to insert new line character \"\\n\" \n",
    "\n",
    "with open(\"numbers_one_to_ten_NEW.txt\", 'w') as file:\n",
    "    \n",
    "    for i in range(1,11):\n",
    "        file.write(str(i)+'\\n')\n"
   ]
  },
  {
   "cell_type": "code",
   "execution_count": 0,
   "metadata": {},
   "outputs": [],
   "source": [
    "# You already heard about the xyz file format. Let us now try to write a file of xyz format\n",
    "\n",
    "# Write a function write_xyz that:\n",
    "# - takes a filename as input a title line, a list of atoms (atom_list) and a list of lists of coordinates (atom_coords) \n",
    "# - and writes the coordinates to file in xyz format.\n",
    "#\n",
    "# As example, use the atom_list and atom_coords for caffeine (the compound giving the awakening effect of coffee) given below. Let the file be named \"caffeine.xyz\"\n",
    "atom_list = [\"N1\", \"C2\", \"N3\", \"C4\", \"C5\", \"C6\", \"N7\", \"C8\", \"N9\", \"C10\", \"O11\", \"O12\", \"C13\", \"C14\", \"H15\", \"H16\", \"H17\", \"H18\", \"H19\", \"H20\", \"H21\", \"H22\", \"H23\", \"H24\"]\n",
    "atom_coords = [[ 1.5808, 0.7027,-0.2279], [ 1.7062,-0.7374,-0.2126], [ 0.5340,-1.5671,-0.3503], [ 0.3231, 1.3600, 0.0274], [-0.8123, 0.4553, 0.0817], [-0.6967,-0.9322,-0.0662], [-2.1886, 0.6990, 0.2783], [-2.8512,-0.5205, 0.2532], [-1.9537,-1.5188, 0.0426], [ 0.6568,-3.0274,-0.1675], [ 2.8136,-1.2558,-0.1693], [ 0.2849, 2.5744, 0.1591], [-2.8096, 2.0031, 0.5032], [ 2.8301, 1.5004,-0.1968], [-3.9271,-0.6787, 0.3762], [ 1.4823,-3.4046,-0.7865], [-0.2708,-3.5204,-0.4868], [ 0.8567,-3.2990, 0.8788], [-2.4123, 2.7478,-0.2017], [-2.6042, 2.3621, 1.5221], [-3.8973, 1.9344, 0.3695], [ 3.5959, 1.0333,-0.8314], [ 3.2249, 1.5791, 0.8255], [ 2.6431, 2.5130,-0.5793]] \n",
    "\n",
    "def write_xyz(filename: str, title: str, atom_list: list[str], atom_coords: list[float]):\n",
    "    \"\"\"Writes an xyz file name filename for the molecule defined\n",
    "    by the atom_list and atom_coords    \n",
    "\n",
    "    Args:\n",
    "        filename (str): name of the xyz file to be written\n",
    "        title (str): title line to be printed in the header\n",
    "        atom_list (list[str]): list of atoms\n",
    "        atom_coords (list): list of lists of atom coordinates\n",
    "    \"\"\"\n",
    "    with open(filename, 'w') as file:\n",
    "        \n",
    "        number_of_atoms = len(atom_list)\n",
    "        file.write(str(number_of_atoms)+'\\n')\n",
    "        file.write(title + '\\n')\n",
    "        \n",
    "        string = ''\n",
    "        for atom, coords in zip(atom_list, atom_coords):\n",
    "            \n",
    "            string += atom + \" \" + str(coords[0]) + \" \" + str(coords[1]) + \" \" + str(coords[2]) + \"\\n\"\n",
    "    \n",
    "        file.write(string)\n"
   ]
  },
  {
   "cell_type": "code",
   "execution_count": 0,
   "metadata": {},
   "outputs": [],
   "source": [
    "# You should now be able to run and get the caffeine.xyz file written \n",
    "write_xyz(\"caffeine.xyz\", \"caffeine\", atom_list, atom_coords)"
   ]
  },
  {
   "attachments": {},
   "cell_type": "markdown",
   "metadata": {},
   "source": [
    "### Remember to always check your output (here the file). One way to do that is to read it back in and print it."
   ]
  },
  {
   "attachments": {},
   "cell_type": "markdown",
   "metadata": {},
   "source": [
    "## Formatted strings\n",
    "* With the simplest implementation, the \"caffeine.xyz\" file will look very unordered. \n",
    "\n",
    "* While this may not be a problem for the read function (sometimes it is – it depends on the format assumptions made in the read function), it is very unpleasing to look at.\n",
    "\n",
    "* So, let us now touch a bit on how to format a string in a nicer way.\n",
    "\n",
    "**NOTE: The formatting style you will learn below assumes Python 3**\n",
    "\n",
    "* An `f` in front of a string means that the string is fancier formatted. See more [here](https://docs.python.org/3/tutorial/inputoutput.html)\n",
    "\n",
    "* This means that you can use variable names directly in the string expression by encapsulating them in `{}`\n",
    "\n",
    "Take the following formatted string:\n",
    "\n",
    "```Python\n",
    "variable1 = \"Hello\"\n",
    "variable2 = 4\n",
    "\n",
    "string = f\"I am variable1 {variable1} and I am variable2 {variable2}\"\n",
    "print(string)\n",
    "```\n",
    "\n",
    "which gives\n",
    "```\n",
    "I am variable1 Hello and I am variable2 4\n",
    "```\n",
    "\n",
    "\n",
    "We can format even more inside the `{}`.\n",
    "For example, if I have a variable name of type float and want to print it with 12 digits and 6 decimal places, I can do the following\n",
    "\n",
    "```Python\n",
    "PI = 3.14159265359\n",
    "\n",
    "string = f\"PI is approx. {PI:12.6f}\"\n",
    "\n",
    "print(string)\n",
    "```\n",
    "\n",
    "which gives\n",
    "\n",
    "```\n",
    "PI is approx.     3.141593\n",
    "```\n",
    "\n",
    "Here the `:` inside `{}` indicates that you will format the variable output. \n",
    "\n",
    "* Floats: `:<number of digits>.<number of decimal places>f`\n",
    "* Integers: `:<number of digits>d`\n",
    "* Strings: `:<number of characters>s`\n",
    "\n",
    "There are many, many more options. You need to study these yourself.\n",
    "Start by reading section \"Format Specification Mini-Language\"\n",
    "* https://docs.python.org/3/library/string.html#format-string-syntax "
   ]
  },
  {
   "cell_type": "code",
   "execution_count": 0,
   "metadata": {},
   "outputs": [],
   "source": [
    "# Time for you to try it out\n",
    "\n",
    "# Example data\n",
    "fish_string = \"fish\"\n",
    "number_int = 4\n",
    "atom_str = \"H1\"\n",
    "number_float1 = 4.65432853\n",
    "number_float2 = 1.54639524\n",
    "number_float3 = 0.53856743\n",
    "\n",
    "# Define a string (named string) containing the fish_string twice each taking a 10 character space\n",
    "string = f\"{fish_string:10s}{fish_string:10s}\"\n",
    "print(string) \n"
   ]
  },
  {
   "cell_type": "code",
   "execution_count": 0,
   "metadata": {},
   "outputs": [],
   "source": [
    "assert string == \"fish      fish      \", error_message(string, \"fish      fish      \")"
   ]
  },
  {
   "cell_type": "code",
   "execution_count": 0,
   "metadata": {},
   "outputs": [],
   "source": [
    "# Define a string named string containing three times number_int taking up 4 digit space\n",
    "string = f\"{number_int:4d}{number_int:4d}{number_int:4d}\"\n",
    "print(string)\n"
   ]
  },
  {
   "cell_type": "code",
   "execution_count": 0,
   "metadata": {},
   "outputs": [],
   "source": [
    "assert string == \"   4   4   4\", error_message(string, \"   4   4   4\")"
   ]
  },
  {
   "cell_type": "code",
   "execution_count": 0,
   "metadata": {},
   "outputs": [],
   "source": [
    "# Define a string named string that contains\n",
    "# - the atom_str with 4 character spaces \n",
    "# - and then the three number_float variables with 10 digits and 5 decimal places\n",
    "\n",
    "# This will be all you need to get a nice output for your xyz writer\n",
    "\n",
    "string = f\"{atom_str:4s}{number_float1:10.5f}{number_float2:10.5f}{number_float3:10.5f}\"\n",
    "print(string)\n"
   ]
  },
  {
   "cell_type": "code",
   "execution_count": 0,
   "metadata": {},
   "outputs": [],
   "source": [
    "assert string == \"H1     4.65433   1.54640   0.53857\", error_message(string, \"H1     4.65433   1.54640   0.53857\")"
   ]
  },
  {
   "attachments": {},
   "cell_type": "markdown",
   "metadata": {},
   "source": [
    "### Your task:\n",
    "* Modify your `write_xyz` function from above to write in a nicely formatted output\n",
    "* The output xyz file should be named `caffeine_NICE.xyz`\n",
    "\n",
    "You can for instance use `{:4s}{:20.10f}{:20.10f}{:20.10f}`\n",
    "which should give you the following:\n",
    "```\n",
    "24\n",
    "caffeine\n",
    "N1          1.5808000000        0.7027000000       -0.2279000000\n",
    "C2          1.7062000000       -0.7374000000       -0.2126000000\n",
    "N3          0.5340000000       -1.5671000000       -0.3503000000\n",
    "C4          0.3231000000        1.3600000000        0.0274000000\n",
    "C5         -0.8123000000        0.4553000000        0.0817000000\n",
    "C6         -0.6967000000       -0.9322000000       -0.0662000000\n",
    "N7         -2.1886000000        0.6990000000        0.2783000000\n",
    "C8         -2.8512000000       -0.5205000000        0.2532000000\n",
    "N9         -1.9537000000       -1.5188000000        0.0426000000\n",
    "C10         0.6568000000       -3.0274000000       -0.1675000000\n",
    "O11         2.8136000000       -1.2558000000       -0.1693000000\n",
    "O12         0.2849000000        2.5744000000        0.1591000000\n",
    "C13        -2.8096000000        2.0031000000        0.5032000000\n",
    "C14         2.8301000000        1.5004000000       -0.1968000000\n",
    "H15        -3.9271000000       -0.6787000000        0.3762000000\n",
    "H16         1.4823000000       -3.4046000000       -0.7865000000\n",
    "H17        -0.2708000000       -3.5204000000       -0.4868000000\n",
    "H18         0.8567000000       -3.2990000000        0.8788000000\n",
    "H19        -2.4123000000        2.7478000000       -0.2017000000\n",
    "H20        -2.6042000000        2.3621000000        1.5221000000\n",
    "H21        -3.8973000000        1.9344000000        0.3695000000\n",
    "H22         3.5959000000        1.0333000000       -0.8314000000\n",
    "H23         3.2249000000        1.5791000000        0.8255000000\n",
    "H24         2.6431000000        2.5130000000       -0.5793000000\n",
    "```"
   ]
  },
  {
   "cell_type": "code",
   "execution_count": 0,
   "metadata": {},
   "outputs": [],
   "source": [
    "atom_list = [\"N1\", \"C2\", \"N3\", \"C4\", \"C5\", \"C6\", \"N7\", \"C8\", \"N9\", \"C10\", \"O11\", \"O12\", \"C13\", \"C14\", \"H15\", \"H16\", \"H17\", \"H18\", \"H19\", \"H20\", \"H21\", \"H22\", \"H23\", \"H24\"]\n",
    "atom_coords = [[ 1.5808, 0.7027,-0.2279], [ 1.7062,-0.7374,-0.2126], [ 0.5340,-1.5671,-0.3503], [ 0.3231, 1.3600, 0.0274], [-0.8123, 0.4553, 0.0817], [-0.6967,-0.9322,-0.0662], [-2.1886, 0.6990, 0.2783], [-2.8512,-0.5205, 0.2532], [-1.9537,-1.5188, 0.0426], [ 0.6568,-3.0274,-0.1675], [ 2.8136,-1.2558,-0.1693], [ 0.2849, 2.5744, 0.1591], [-2.8096, 2.0031, 0.5032], [ 2.8301, 1.5004,-0.1968], [-3.9271,-0.6787, 0.3762], [ 1.4823,-3.4046,-0.7865], [-0.2708,-3.5204,-0.4868], [ 0.8567,-3.2990, 0.8788], [-2.4123, 2.7478,-0.2017], [-2.6042, 2.3621, 1.5221], [-3.8973, 1.9344, 0.3695], [ 3.5959, 1.0333,-0.8314], [ 3.2249, 1.5791, 0.8255], [ 2.6431, 2.5130,-0.5793]] \n",
    "\n",
    "def write_xyz(filename: str, title: str, atom_list: list[str], atom_coords: list[float]):\n",
    "    \"\"\"Writes an xyz file name filename for the molecule defined\n",
    "    by the atom_list and atom_coords    \n",
    "\n",
    "    Args:\n",
    "        filename (str): name of the xyz file to be written\n",
    "        title (str): title line to be printed in the header\n",
    "        atom_list (list[str]): list of atoms\n",
    "        atom_coords (list): list of lists of atom coordinates\n",
    "    \"\"\"\n",
    "    with open(filename, 'w') as file:\n",
    "        \n",
    "        number_of_atoms = len(atom_list)\n",
    "        file.write(str(number_of_atoms)+'\\n')\n",
    "        file.write(title + '\\n')\n",
    "        \n",
    "        string = ''\n",
    "        for atom, coords in zip(atom_list, atom_coords):\n",
    "            \n",
    "            string += f\"{atom:4s}{coords[0]:20.10f}{coords[1]:20.10f}{coords[2]:20.10f}\\n\"\n",
    "    \n",
    "        file.write(string)\n"
   ]
  },
  {
   "cell_type": "code",
   "execution_count": 0,
   "metadata": {},
   "outputs": [],
   "source": [
    "write_xyz(\"caffeine_NICE.xyz\", \"caffeine\", atom_list, atom_coords)"
   ]
  },
  {
   "cell_type": "code",
   "execution_count": 0,
   "metadata": {},
   "outputs": [],
   "source": [
    "# Again you should always check the output"
   ]
  },
  {
   "attachments": {},
   "cell_type": "markdown",
   "metadata": {},
   "source": [
    "## Reading and writing standard file formats\n",
    "\n",
    "As with many other things, there are a wealth of Python modules that can deal with read/write of standard file formats.\n",
    "\n",
    "For example:\n",
    "* CSV files (`.csv`) – `import csv` – [More about csv](https://docs.python.org/3/library/csv.html)\n",
    "* JSON files (`.json`) - `import json`- [More about json](https://docs.python.org/3/library/json.html)\n",
    "* YAML files (`.yaml`) - `import yaml` - [More about yaml](https://pyyaml.org/wiki/PyYAMLDocumentation)\n",
    "\n",
    "We will not go through these but I recommend you to have a look: using standard file format is preferable when possible."
   ]
  },
  {
   "attachments": {},
   "cell_type": "markdown",
   "metadata": {},
   "source": [
    "## Command-line parsing with argparse\n",
    "\n",
    "The `argparse` module is intended to write user-friendly command-line interfaces to Python programs. Check out [this link](https://docs.python.org/3/library/argparse.html).\n",
    "\n",
    "It may become handy in one of the project assignments.\n",
    "\n",
    "The module is build around an instance of the `class argparse.ArgumentParser`, which is nothing but a container for input argument specifications.\n",
    "\n",
    "First, we need to talk a bit about arguments.\n",
    "\n",
    "* An argument is a value that is accepted by a Python function or the parser (in this case).\n",
    "* This value becomes its own Python value when used in the function. \n",
    "\n",
    "**Two different types of arguments**\n",
    "* Positional – required arguments that come in positional order (AND ARE ALWAYS LISTED BEFORE OPTIONAL ARGUMENTS!).\n",
    "* Optional - not required because the parameters underlying this argument has a default value (If not explicitly set in argparse using the `default` keyword, it will be set to `None`). If no argument is given, the program will use the default"
   ]
  },
  {
   "cell_type": "code",
   "execution_count": 0,
   "metadata": {},
   "outputs": [],
   "source": [
    "# We start by importing the module\n",
    "import argparse\n",
    "\n",
    "# Then we initialize an instance of the argparse.ArgumentParser class\n",
    "\n",
    "parser = argparse.ArgumentParser(prog='<name of your program>',\n",
    "                    description='What the program does',\n",
    "                    epilog='Text at the bottom of help')\n",
    "\n",
    "# Step 1 is to define the input arguments\n",
    "\n",
    "# First, we put any positional arguments\n",
    "parser.add_argument(\"filename\", help=\"The input file\", type = str)\n",
    "\n",
    "# Then any optional arguments (-X single-character argument, --xxxxxxx multicharacter argument)\n",
    "parser.add_argument(\"-n\", \"--nstudents\", help=\"The number of students\", type = int)"
   ]
  },
  {
   "cell_type": "code",
   "execution_count": 0,
   "metadata": {},
   "outputs": [],
   "source": [
    "# We then need to run the parse_args() method of the object to get the parser object to correctly interpret the extracted data\n",
    "# args = parser.parse_args() <------------- THIS IS HOW TO RUN IT IN A PYTHON SCRIPT FILE\n",
    "\n",
    "args = parser.parse_args([\"test.csv\"]) #<------------To make this work in a Jupyter Notebook (where we cannot provide arguments as usual), we provide a list of input strings instead"
   ]
  },
  {
   "cell_type": "code",
   "execution_count": 0,
   "metadata": {},
   "outputs": [],
   "source": [
    "# The parser object stores the inputs in the filename and nstudents data attributes\n",
    "print(args.filename, args.nstudents)"
   ]
  },
  {
   "cell_type": "code",
   "execution_count": 0,
   "metadata": {},
   "outputs": [],
   "source": [
    "args = parser.parse_args([\"test.csv\", \"-n 5\"])"
   ]
  },
  {
   "cell_type": "code",
   "execution_count": 0,
   "metadata": {},
   "outputs": [],
   "source": [
    "# The parser object stores the inputs in the filename and nstudents data attributes. This time nstudents is not None\n",
    "print(args.filename, args.nstudents)"
   ]
  }
 ],
 "metadata": {
  "kernelspec": {
   "display_name": "bb1000_2023",
   "language": "python",
   "name": "python3"
  },
  "language_info": {
   "codemirror_mode": {
    "name": "ipython",
    "version": 3
   },
   "file_extension": ".py",
   "mimetype": "text/x-python",
   "name": "python",
   "nbconvert_exporter": "python",
   "pygments_lexer": "ipython3",
   "version": "3.12.0"
  },
  "orig_nbformat": 4,
  "vscode": {
   "interpreter": {
    "hash": "2f01e258595f0c264112b87b5f2e2c94be4bab49ac8438f33b47bf95e6458b5e"
   }
  }
 },
 "nbformat": 4,
 "nbformat_minor": 2
}
