{
 "cells": [
  {
   "attachments": {},
   "cell_type": "markdown",
   "metadata": {},
   "source": [
    "# Introduction to Pandas - Python Data Analysis Library\n",
    "\n",
    "Pandas - an external library for data analysis in Python. \n",
    "\n",
    "It provides two basic data structures:\n",
    "* Series : a one-dimensional labeled array holding any type of data, even mixed data types.\n",
    "* DataFrame : a two-dimensional data structure that holds labeled data of any type.\n",
    "\n",
    "In the following notebook, you will see some of the many functionalities of Pandas.\n",
    "This is not a data science course, and we recommend using the pandas documentation to see all the features.\n",
    "\n",
    "Read more in the [Pandas documentation](https://pandas.pydata.org/docs/index.html)"
   ]
  },
  {
   "cell_type": "code",
   "execution_count": 0,
   "metadata": {},
   "outputs": [],
   "source": [
    "# First we need to import the pandas library as \"pd\"\n",
    "import pandas as pd\n",
    "\n",
    "# Numpy is still a very useful library, so we will also import that\n",
    "import numpy as np"
   ]
  },
  {
   "attachments": {},
   "cell_type": "markdown",
   "metadata": {},
   "source": [
    "## The Pandas Series"
   ]
  },
  {
   "cell_type": "code",
   "execution_count": 0,
   "metadata": {},
   "outputs": [],
   "source": [
    "# Creating a series directly from numbers (same type)\n",
    "# which can be noted at the end of the print \"dtype: int64\"\n",
    "a_series = pd.Series([1, 2, 5, 6, 8])\n",
    "print(\"A series\")\n",
    "print(a_series)"
   ]
  },
  {
   "cell_type": "code",
   "execution_count": 0,
   "metadata": {},
   "outputs": [],
   "source": [
    "# Creating a series directly from data (mixed types)\n",
    "# which can be noted at the end of the print \"dtype: object\"\n",
    "a_series = pd.Series([1, \"mixed data\", 5.5, np.nan, 8])\n",
    "print(\"A series\")\n",
    "print(a_series)"
   ]
  },
  {
   "cell_type": "code",
   "execution_count": 0,
   "metadata": {},
   "outputs": [],
   "source": [
    "# Creating a series using numpy functions \n",
    "a_series = pd.Series(np.sin(np.linspace(1,6,10)))\n",
    "print(\"A series\")\n",
    "print(a_series)"
   ]
  },
  {
   "attachments": {},
   "cell_type": "markdown",
   "metadata": {},
   "source": [
    "## Functions to inspect the data\n",
    "Pandas offers a lot of functions to inspect or run data analysis directly on the Series or DataFrame (which we will see later in the notebook)"
   ]
  },
  {
   "cell_type": "code",
   "execution_count": 0,
   "metadata": {},
   "outputs": [],
   "source": [
    "# Creating a series using numpy functions \n",
    "a_series = pd.Series(np.linspace(0,10,11))\n",
    "print(\"Print first 'n' elements using head(n=5). If no argument is given, default is 5 \")\n",
    "print(a_series.head())\n",
    "\n",
    "print()\n",
    "print(\"describe() shows the basic statistics of the data\")\n",
    "print(\"but describe only gives numerical statistics, if all numbers are numeric\")\n",
    "a_series.describe()"
   ]
  },
  {
   "cell_type": "code",
   "execution_count": 0,
   "metadata": {},
   "outputs": [],
   "source": [
    "# You can also describe mixed data, or a series of text\n",
    "the_hobbit_beginning = pd.Series([\"In\",\"a\",\"hole\",\"in\",\"the\",\"ground\",\"there\",\"lived\",\"a\",\"hobbit.\",\"Not\",\"a\",\"nasty,\",\"dirty,\",\"wet\",\"hole,\",\"filled\",\"with\",\"the\",\"ends\",\"of\",\"worms\",\"and\",\"an\",\"oozy\",\"smell,\",\"nor\",\"yet\",\"a\",\"dry,\",\"bare,\",\"sandy\",\"hole\",\"with\",\"nothing\",\"in\",\"it\",\"to\",\"sit\",\"down\",\"on\",\"or\",\"to\",\"eat:\",\"it\",\"was\",\"a\",\"hobbit-hole,\",\"and\",\"that\",\"means\",\"comfort\"])\n",
    "the_hobbit_beginning.describe()"
   ]
  },
  {
   "cell_type": "code",
   "execution_count": 0,
   "metadata": {},
   "outputs": [],
   "source": [
    "# or you can count words:\n",
    "the_hobbit_beginning.value_counts()"
   ]
  },
  {
   "attachments": {},
   "cell_type": "markdown",
   "metadata": {},
   "source": [
    "## Pandas DataFrame : The workhorse of Pandas\n",
    "Pandas dataframe is a 2-dimensional array that, again, allows mixed data types.\n",
    "This object offers a lot of functions to describe, sort, search and analyse data.\n",
    "One advantage of the dataframe, is that the columns are named, just like we know from an excel spreadsheet.\n",
    "\n",
    "[You can read more about DataFrames here](https://pandas.pydata.org/docs/reference/api/pandas.DataFrame.html)"
   ]
  },
  {
   "cell_type": "code",
   "execution_count": 0,
   "metadata": {},
   "outputs": [],
   "source": [
    "# Let us start by creating a dataframe manually. \n",
    "x = np.linspace(0, 10, 11)\n",
    "squares = x*x\n",
    "cos = np.cos(x)\n",
    "sin = np.sin(x)\n",
    "\n",
    "# Collect all the data in a dictionary (the keys becomes the column names)\n",
    "data_dict = {\"x\" : x, \"squares\" : squares, \"cos\"  : cos, \"sin\" : sin}\n",
    "\n",
    "# and create the dataframe\n",
    "df = pd.DataFrame(data_dict)\n",
    "\n",
    "# Let us see the values we just added\n",
    "df.head()"
   ]
  },
  {
   "attachments": {},
   "cell_type": "markdown",
   "metadata": {},
   "source": [
    "## CSV dataset\n",
    "Let us take a look at a dataset from Kaggle: [Used car sales data](https://www.kaggle.com/datasets/sujithmandala/second-hand-car-price-prediction)\n",
    "\n",
    "In the following cells, we will investigate the \"cars_df\", so remember to run the next cell before skipping."
   ]
  },
  {
   "cell_type": "code",
   "execution_count": 0,
   "metadata": {},
   "outputs": [],
   "source": [
    "# Start by reading the csv file (Note: pandas' read_csv is much faster than Numpy's)\n",
    "cars_df = pd.read_csv(\"cars.csv\")\n",
    "\n",
    "# Let us investigate the data a bit\n",
    "cars_df.head()"
   ]
  },
  {
   "cell_type": "code",
   "execution_count": 0,
   "metadata": {},
   "outputs": [],
   "source": [
    "# We can also inspect what data types our dataframe holds\n",
    "cars_df.info()"
   ]
  },
  {
   "cell_type": "code",
   "execution_count": 0,
   "metadata": {},
   "outputs": [],
   "source": [
    "# Let us start by checking what \"Brand\"s there are in this dataset\n",
    "\n",
    "# We can index a column directly as an attribute of the dataframe, here the \"Brand\"\n",
    "# and then use the unique() method\n",
    "cars_df.Brand.unique()"
   ]
  },
  {
   "cell_type": "code",
   "execution_count": 0,
   "metadata": {},
   "outputs": [],
   "source": [
    "# If we then wants to find the price range of each of these Brands\n",
    "# then we can group all the products, then extract the \"Price\" of the products and statistically describe the data\n",
    "cars_df.groupby(\"Brand\")[\"Price\"].describe()"
   ]
  },
  {
   "cell_type": "code",
   "execution_count": 0,
   "metadata": {},
   "outputs": [],
   "source": [
    "# Now we can try and create a correlation matrix, that is, a matrix that give indications on whether or not\n",
    "# variables are correlated. From intuition, we would think there should be a negative correlation between how old a car is\n",
    "# and what sales value it should have. Meaning, the higher the age, the lower the price.\n",
    "\n",
    "# Read more at e.g. : https://builtin.com/data-science/correlation-matrix \n",
    "# Remember we have mixed data types, so we must provide the \"numeric_only=True\" argument \n",
    "cars_df.corr(numeric_only=True)"
   ]
  },
  {
   "attachments": {},
   "cell_type": "markdown",
   "metadata": {},
   "source": [
    "As seen from the matrix above, there is a clear correlation between Engine/Power and Price, and a negative correlation for year. But year is the absolute purchase yeah, not the age. So let us add a column for age, where \"now\" is 2024"
   ]
  },
  {
   "cell_type": "code",
   "execution_count": 0,
   "metadata": {},
   "outputs": [],
   "source": [
    "# There are 2 ways to do this, you can a) provide a function or b) give a \"lambda\" expression.\n",
    "# We will go with the lambda. axis=1 means loop over rows\n",
    "\n",
    "# column \"age\" is now the result of each row's year being subtracted from 2024\n",
    "cars_df['age'] = cars_df.apply(lambda row: 2024 - row.Year, axis=1)\n",
    "\n",
    "# And now let us run the same correlation matrix\n",
    "cars_df.corr(numeric_only=True)"
   ]
  },
  {
   "attachments": {},
   "cell_type": "markdown",
   "metadata": {},
   "source": [
    "In this dataset, age is not directly impacting the price. But the age has a strong correlation with kilometers driven, which makes sense, and a small negative correlation with Mileage, which also makes sense that newer cars tend to drive longer.\n",
    "\n",
    "Sorry - not a data science course, but still fun! :-)"
   ]
  },
  {
   "attachments": {},
   "cell_type": "markdown",
   "metadata": {},
   "source": [
    "## Quering data from a dataframe\n",
    "Let us try and look into some of the querying methods of Pandas DataFrames, still using the cars dataset.\n",
    "Here quering refers to selecting a subset of the dataframe."
   ]
  },
  {
   "cell_type": "code",
   "execution_count": 0,
   "metadata": {},
   "outputs": [],
   "source": [
    "# A subset of all the cars could be to find all \"Fords\"\n",
    "ford_df = cars_df[cars_df.Brand == \"Ford\"]\n",
    "ford_df.head()"
   ]
  },
  {
   "cell_type": "code",
   "execution_count": 0,
   "metadata": {},
   "outputs": [],
   "source": [
    "# or let us only see cars sold before 2020\n",
    "older_cars_df = cars_df[cars_df.Year < 2020]\n",
    "older_cars_df.head()"
   ]
  },
  {
   "cell_type": "code",
   "execution_count": 0,
   "metadata": {},
   "outputs": [],
   "source": [
    "# It is also possible to extract specific columns from the dataset\n",
    "# Note two [[ ]] when having multiple columns, if a single column is needed, then [\"Model\"]\n",
    "cars_df[[\"Model\", \"Price\"]]"
   ]
  },
  {
   "attachments": {},
   "cell_type": "markdown",
   "metadata": {},
   "source": [
    "## Plotting data from dataframes\n",
    "Let us finally see how we can plot data directly from dataframes.\n",
    "\n",
    "Note that we are using matplotlib as the plotting library in this case. Pandas has its own slim built-in plotting library. However the following example with multiple labels in a scatter plot is not straightforward in pure pandas."
   ]
  },
  {
   "cell_type": "code",
   "execution_count": 0,
   "metadata": {},
   "outputs": [],
   "source": [
    "import matplotlib.pyplot as plt"
   ]
  },
  {
   "cell_type": "code",
   "execution_count": 0,
   "metadata": {},
   "outputs": [],
   "source": [
    "# We want to plot the kilometers driven on the X-axis and the Price on the Y-axis grouped by each Brand (color)\n",
    "\n",
    "# Create the plot and axis\n",
    "fig, ax = plt.subplots(figsize=(12,6))\n",
    "\n",
    "# Loop over the groups of data\n",
    "for name, group in cars_df.groupby('Brand'):\n",
    "    ax.scatter(group.Kilometers_Driven, group.Price, label=name)\n",
    "\n",
    "# Add legend and labels\n",
    "plt.legend()\n",
    "plt.xlabel(\"Kilometers driven\")\n",
    "plt.ylabel(\"Price\")"
   ]
  },
  {
   "attachments": {},
   "cell_type": "markdown",
   "metadata": {},
   "source": [
    "## Time series data : The weather in Stockholm\n",
    "Pandas has a lot of neat functions to work with time series data. Below we will revisit the weather data from the `matplotlib` workbook."
   ]
  },
  {
   "cell_type": "code",
   "execution_count": 0,
   "metadata": {},
   "outputs": [],
   "source": [
    "# Importing os to help with paths\n",
    "import os"
   ]
  },
  {
   "cell_type": "code",
   "execution_count": 0,
   "metadata": {},
   "outputs": [],
   "source": [
    "# First we need to read in the data. But since we have a 'date' field, we can tell pandas to treat it as such.\n",
    "# The first column is a date:\n",
    "date_cols = ['date']\n",
    "\n",
    "# using the date_cols, we can tell pandas to convert into datetimes by using the 'parse_dates' argument \n",
    "weather_df = pd.read_csv(os.path.join(\"..\",\"matplotlib\", \"stockholm_daily_mean_avg_std_temperature.csv\"), parse_dates=date_cols)\n",
    "\n",
    "# Let us investigate the data a bit  - and we can see that the date field is now a datetime\n",
    "weather_df.info()"
   ]
  },
  {
   "cell_type": "code",
   "execution_count": 0,
   "metadata": {},
   "outputs": [],
   "source": [
    "# Let's extract 2000 to 2010\n",
    "# 'date' is the column name\n",
    "sub_df = weather_df[weather_df['date'].between('2000-01-01', '2010-01-01')]\n",
    "sub_df.head()\n"
   ]
  },
  {
   "cell_type": "code",
   "execution_count": 0,
   "metadata": {},
   "outputs": [],
   "source": [
    "# Now lets plot the mean temperature\n",
    "plt.plot(sub_df['date'], sub_df['mean'])\n",
    "plt.xlabel(\"Date\")\n",
    "plt.ylabel(\"Mean temperature [C]\")"
   ]
  },
  {
   "cell_type": "code",
   "execution_count": 0,
   "metadata": {},
   "outputs": [],
   "source": [
    "# We can also create a rolling mean of e.g. 7 days.\n",
    "\n",
    "# each row in the data frame is one day, so that is just a rolling mean of 7 rows:\n",
    "sub_df.loc[:,'weekly_mean'] = sub_df['mean'].rolling(7).mean()\n",
    "\n",
    "# Now let's see what data we have\n",
    "sub_df.info()\n",
    "\n",
    "# and plot it using the mean\n",
    "plt.plot(sub_df['date'], sub_df['weekly_mean'])\n",
    "plt.xlabel(\"Date\")\n",
    "plt.ylabel(\"Mean temperature [C]\")"
   ]
  },
  {
   "cell_type": "code",
   "execution_count": 0,
   "metadata": {},
   "outputs": [],
   "source": [
    "# Imagine if we instead want to see the yearly mean on all the data\n",
    "weather_df.loc[:,'yearly_mean'] = weather_df['mean'].rolling(365).mean()\n",
    "weather_df.loc[:,'ten_year_mean'] = weather_df['mean'].rolling(3650).mean()\n",
    "\n",
    "plt.plot(weather_df['date'], weather_df['yearly_mean'], 'orange', label=\"Yearly running average\")\n",
    "plt.plot(weather_df['date'], weather_df['ten_year_mean'], 'b', label=\"Ten year running average\")\n",
    "plt.xlabel(\"Date\")\n",
    "plt.ylabel(\"Mean temperature [C]\")\n",
    "plt.legend(loc=\"upper left\")"
   ]
  }
 ],
 "metadata": {
  "kernelspec": {
   "display_name": "bb1000",
   "language": "python",
   "name": "python3"
  },
  "language_info": {
   "codemirror_mode": {
    "name": "ipython",
    "version": 3
   },
   "file_extension": ".py",
   "mimetype": "text/x-python",
   "name": "python",
   "nbconvert_exporter": "python",
   "pygments_lexer": "ipython3",
   "version": "3.9.0"
  },
  "orig_nbformat": 4
 },
 "nbformat": 4,
 "nbformat_minor": 2
}