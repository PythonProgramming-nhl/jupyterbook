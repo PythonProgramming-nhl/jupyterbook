{
 "cells": [
  {
   "cell_type": "code",
   "execution_count": 0,
   "metadata": {},
   "outputs": [],
   "source": [
    "# Define helper function\n",
    "from pytest import approx\n",
    "def error_message(actual, expected):\n",
    "    return f'Actual {actual} != Expected {expected}'"
   ]
  },
  {
   "attachments": {},
   "cell_type": "markdown",
   "metadata": {},
   "source": [
    "# Lecture 6 - Classes in Python\n",
    "\n",
    "**REMEMBER:**\n",
    "* use getter/setter or decorators for good coding practice\n",
    "    - A decorator is a funtion that takes another function and extends its behavior without explicitly modifying it. In Python, decorating a function can be simply done using the `@` symbol\n",
    "* use single leading underscore to indicate attributes/methods for internal use\n",
    "\n",
    "**Initialization of a class**\n",
    "```Python\n",
    "class ExampleClass(object):\n",
    "    def __init__(self, <list of parameters>):\n",
    "    ...\n",
    "```\n",
    "\n",
    "**Attributes:**\n",
    "* Class attributes: common among all instances of the object - if class attribute is changed in one, it will affect all other.\n",
    "    - Defined above `__init__`\n",
    "* Instance attributes: specific to a given instance\n",
    "    - Defined in `__init__`\n",
    "\n",
    "\n",
    "**Methods:**\n",
    "* instance method(`self, arguments`): a method that can access both class and instance attributes \n",
    "* class method(`cls, arguments`): can access the class (via cls) but cannot access the instance (via self). Use `@classmethod` decorator\n",
    "* static method is a function in a class that is like an ordinary function, that does not depend on any instance (no self handle). Use `@staticmethod` decorator"
   ]
  },
  {
   "attachments": {},
   "cell_type": "markdown",
   "metadata": {
    "nbgrader": {
     "grade": false,
     "grade_id": "cell-5930d298e0fb0e89",
     "locked": true,
     "schema_version": 3,
     "solution": false,
     "task": false
    }
   },
   "source": [
    "### A. Create a class for a three-dimensional vector \n",
    "\n",
    "Create a class for storing a 3D vector (x, y, z coordinates), and which provides a set of functions for manipulating the coordinates. \n",
    "\n",
    "The class Vector3D should have the following properties:\n",
    "* Instance attributes\n",
    "    - `x` stores x coordinate (object attribute)\n",
    "    - `y` stores y coordinate (object attribute)\n",
    "    - `z` stores z coordinate (object attribute)\n",
    "* Ordinary instance methods \n",
    "    - `length()`                  : compute length of vector* \n",
    "    - `normalize()`               : normalize vector to unit length vector*\n",
    "      * for square root use math.sqrt function from math library\n",
    "* Overloaded operations (special/magic methods)  \n",
    "    - addition operator(`+`)      : implement `__add__` method to return a new vector as the sum of the two vectors\n",
    "    - substraction operator(`-`)  : implement `__sub__` method to return a new vector as difference of the two vectors\n",
    "    - compare two vectors (`==`)  : implement `__eq__` method to compare (coordinate by coordinate) the vector to another\n",
    "    - str method                : implement `__str__`method to make a nice print statement for the vector  \n",
    "* Static method\n",
    "    - `zerovector()`              : instantiate a zero vector    "
   ]
  },
  {
   "cell_type": "code",
   "execution_count": 0,
   "metadata": {
    "nbgrader": {
     "grade": false,
     "grade_id": "cell-106104681ce80401",
     "locked": false,
     "schema_version": 3,
     "solution": true
    }
   },
   "outputs": [],
   "source": [
    "# Importing the math library\n",
    "import math\n",
    "\n",
    "# Fill in the Vector3D class\n",
    "\n",
    "class Vector3D(object):\n",
    "    \"\"\"\n",
    "    3D vector class\n",
    "    \n",
    "    instance attributes:\n",
    "        _x (float)\n",
    "        _y (float)\n",
    "        _z (float)\n",
    "    \n",
    "    class methods:\n",
    "        length (float): returns Euclidean 2-norm of vector\n",
    "        normalize (None): scales coordinates so that resulting vector has length 1\n",
    "        __add__ (Vector3D) returns new vector as vector sum of two vectors\n",
    "        __sub__ (Vector3D) returns new vector as vector difference of two vectors\n",
    "        __str__: string representation of vector\n",
    "\n",
    "    static method:\n",
    "        zerovec (Vector3D): returns a zero vector\n",
    "    \"\"\"\n",
    "    def __init__(self, x, y, z):\n",
    "        self._x = x\n",
    "        self._y = y \n",
    "        self._z = z\n",
    "    \n",
    "    @property\n",
    "    def x(self):\n",
    "        return self._x\n",
    "    \n",
    "    @x.setter\n",
    "    def x(self, new_x):\n",
    "        self._x = new_x\n",
    "    \n",
    "    @property\n",
    "    def y(self):\n",
    "        return self._y\n",
    "    \n",
    "    @y.setter\n",
    "    def y(self, new_y):\n",
    "        self._y = new_y\n",
    "    \n",
    "    @property\n",
    "    def z(self):\n",
    "        return self._z\n",
    "    \n",
    "    @z.setter\n",
    "    def z(self, new_z):\n",
    "        self._z = new_z\n",
    "\n",
    "    def length(self):\n",
    "        return math.sqrt(self._x * self._x + self._y * self._y + self._z * self._z)\n",
    "    \n",
    "    def normalize(self): \n",
    "        nfact = 1.0 / self.length()\n",
    "        self._x *= nfact \n",
    "        self._y *= nfact \n",
    "        self._z *= nfact\n",
    "        \n",
    "    def __add__(self, other):\n",
    "        x = self._x + other._x \n",
    "        y = self._y + other._y \n",
    "        z = self._z + other._z\n",
    "        return Vector3D(x, y, z)\n",
    "            \n",
    "    def __sub__(self, other):\n",
    "        x = self._x - other._x \n",
    "        y = self._y - other._y \n",
    "        z = self._z - other._z\n",
    "        return Vector3D(x, y, z)\n",
    "    \n",
    "    def __eq__(self, other):\n",
    "        if (self._x == other._x) and (self._y == other._y) and (self._z == other._z):\n",
    "            return True\n",
    "        else:\n",
    "            return False\n",
    "\n",
    "    def __str__(self):\n",
    "        return f'Vector3D({self._x}, {self._y}, {self._z})'\n",
    "    \n",
    "    @staticmethod\n",
    "    def zerovec():\n",
    "        return Vector3D(0.0,0.0,0.0)\n",
    "    \n"
   ]
  },
  {
   "cell_type": "code",
   "execution_count": 0,
   "metadata": {
    "nbgrader": {
     "grade": true,
     "grade_id": "cell-e8becee65f92a575",
     "locked": true,
     "points": 1,
     "schema_version": 3,
     "solution": false
    }
   },
   "outputs": [],
   "source": [
    "# Verify Vector3D constructor\n",
    "vector = Vector3D(1.0, 2.0, 4.0)\n",
    "\n",
    "assert vector.x == approx(1), error_message(vector.x, 1)\n",
    "assert vector.y == approx(2), error_message(vector.y, 2)\n",
    "assert vector.z == approx(4), error_message(vector.z, 4)"
   ]
  },
  {
   "cell_type": "code",
   "execution_count": 0,
   "metadata": {
    "nbgrader": {
     "grade": true,
     "grade_id": "cell-3328f70c25343894",
     "locked": true,
     "points": 1,
     "schema_version": 3,
     "solution": false
    }
   },
   "outputs": [],
   "source": [
    "# Verify length method in Vector3D class \n",
    "vector = Vector3D(1.0, 2.0, 4.0)\n",
    "\n",
    "assert vector.length() == approx(math.sqrt(21)), error_message(vector.length(), math.sqrt(21))"
   ]
  },
  {
   "cell_type": "code",
   "execution_count": 0,
   "metadata": {
    "nbgrader": {
     "grade": true,
     "grade_id": "cell-96e5a932f3347dcf",
     "locked": true,
     "points": 1,
     "schema_version": 3,
     "solution": false
    }
   },
   "outputs": [],
   "source": [
    "# Verify normalize method in Vector3D class \n",
    "vector = Vector3D(1.0, 2.0, 4.0)\n",
    "\n",
    "vector.normalize()\n",
    "\n",
    "assert vector.length() == approx(1), error_message(vector.length(), 1)"
   ]
  },
  {
   "cell_type": "code",
   "execution_count": 0,
   "metadata": {
    "nbgrader": {
     "grade": true,
     "grade_id": "cell-1f019ebe8894fb2b",
     "locked": true,
     "points": 1,
     "schema_version": 3,
     "solution": false
    }
   },
   "outputs": [],
   "source": [
    "#Verify addition operator for two vectors \n",
    "avector = Vector3D(1.0, 2.0, 4.0)\n",
    "bvector = Vector3D(2.0, 3.3, 0.9)\n",
    "\n",
    "cvector = avector + bvector\n",
    "\n",
    "assert cvector.x == approx(3.0), error_message(cvector.x, 3)\n",
    "assert cvector.y == approx(5.3), error_message(cvector.y, 5.3)\n",
    "assert cvector.z == approx(4.9), error_message(cvector.z, 4.9)\n"
   ]
  },
  {
   "cell_type": "code",
   "execution_count": 0,
   "metadata": {
    "nbgrader": {
     "grade": true,
     "grade_id": "cell-965fcb9cfdf9230b",
     "locked": true,
     "points": 1,
     "schema_version": 3,
     "solution": false
    }
   },
   "outputs": [],
   "source": [
    "#Verify substraction operator for two vectors \n",
    "avector = Vector3D(1.0, 2.0, 4.0)\n",
    "bvector = Vector3D(2.0, 0.2, 0.9)\n",
    "\n",
    "cvector = avector - bvector\n",
    "\n",
    "assert cvector.x == approx(-1.0), error_message(cvector.x, -1)\n",
    "assert cvector.y == approx(1.8), error_message(cvector.y, 1.8)\n",
    "assert cvector.z == approx(3.1), error_message(cvector.z, 3,1)"
   ]
  },
  {
   "cell_type": "code",
   "execution_count": 0,
   "metadata": {},
   "outputs": [],
   "source": [
    "#Verify comparison of two vectors\n",
    "avector = Vector3D(1.0, 2.0, 4.0)\n",
    "bvector = Vector3D(2.0, 0.2, 0.9)\n",
    "\n",
    "assert (avector == bvector) == False, error_message(avector == bvector, False)"
   ]
  },
  {
   "cell_type": "code",
   "execution_count": 0,
   "metadata": {},
   "outputs": [],
   "source": [
    "#Verify staticmethod zerovec\n",
    "zerovector = Vector3D.zerovec()\n",
    "\n",
    "assert type(zerovector) == Vector3D, error_message (type(zerovector), Vector3D)\n",
    "assert (zerovector.x == 0.0), error_message(zerovector, 0.0)\n",
    "assert (zerovector.y == 0.0), error_message(zerovector, 0.0)\n",
    "assert (zerovector.z == 0.0), error_message(zerovector, 0.0)"
   ]
  },
  {
   "attachments": {},
   "cell_type": "markdown",
   "metadata": {},
   "source": [
    "## Class for currency data storage \n",
    "\n",
    "Create a class for storing money in SEK, Euro and Dollars and provides methods for manipulating the amount and type of currency.\n",
    "\n",
    "The class Money should have the following properties:\n",
    "* Class attribute\n",
    "  - `conversion_rate` dict for floats that contains the conversion rates SEK_TO_EUR (default to 11.9) and SEK_TO_USD (10.9) (class attributes)\n",
    "* Instance attribute\n",
    "  - `currency` stores currency type ('SEK' or 'EUR')\n",
    "  - `amount` stores amount of money\n",
    "* Ordinary class methods\n",
    "  - `set_conversion_rate(new_conversion_rate)` : method for (re)setting the conversion rates. If rate is present, update it. Otherwise add conversion rate. \n",
    "* Overloaded operations\n",
    "  - addition operator(`+`)     : implement addition of money objects - remember that you should only be able to add amounts if they are in same currency (that is, a conversion may be required)\n",
    "  - substraction operator(`-`) : implement substraction of money objects - remember that you should only be able to subtract amounts if they are same currency\n",
    "  * currency type of result must be currency type of first operand in arithmetical expression\n",
    "* Class method\n",
    "  - `update_rates`: takes a dictionary with new conversion rates and updates the class attribute "
   ]
  },
  {
   "cell_type": "code",
   "execution_count": 0,
   "metadata": {
    "nbgrader": {
     "grade": false,
     "grade_id": "cell-dbe1d3027a05e5a4",
     "locked": false,
     "schema_version": 3,
     "solution": true
    }
   },
   "outputs": [],
   "source": [
    "class Money(object):\n",
    "    \"\"\"\n",
    "    A class for manipulation of different currencies\n",
    "    \n",
    "    class attributes:\n",
    "        conversion_rate (dict of floats) \n",
    "    instance attributes:\n",
    "        amount (float)\n",
    "        currency (str)\n",
    "    class methods:\n",
    "        set_conversion_rate: resets conversion rate\n",
    "        __add__: implements addition of Money objects (right side currency converted to left side if different)\n",
    "        __sub__: implements subtraction of Money objects\n",
    "    \"\"\"\n",
    "    conversion_rate = {\"SEK_PER_EUR\": 11.9, \"SEK_PER_USD\": 10.9}\n",
    "\n",
    "    def __init__(self, amount, currency):\n",
    "        self._amount = amount\n",
    "        self._currency = currency\n",
    "    \n",
    "    @property\n",
    "    def amount(self):\n",
    "        return self._amount\n",
    "    \n",
    "    @amount.setter\n",
    "    def amount(self, new_amount):\n",
    "        self._amount = new_amount\n",
    "    \n",
    "    @property\n",
    "    def currency(self):\n",
    "        return self._currency\n",
    "    \n",
    "    @currency.setter\n",
    "    def currency(self, new_currency):\n",
    "        self._currency = new_currency\n",
    "\n",
    "    @classmethod\n",
    "    def set_conversion_rate(cls, rate):\n",
    "        for key, value in rate.items():\n",
    "            print(key, value)\n",
    "            if key in cls.conversion_rate.keys():\n",
    "                cls.conversion_rate[key] = value\n",
    "            else:\n",
    "                print(f\"Introduced new conversion rate {key}:{value}\")\n",
    "                cls.conversion_rate.update({key : value})\n",
    "        \n",
    "    def __add__(self, other):\n",
    "        if self._currency == other._currency:\n",
    "            return Money(self._amount + other._amount, self._currency)\n",
    "        else:\n",
    "            rate_key = self._currency + '_PER_' + other._currency\n",
    "            rate_invkey = other._currency + '_PER_' + self._currency\n",
    "            if rate_key in Money.conversion_rate.keys():\n",
    "                return Money(self._amount + other._amount * Money.conversion_rate[rate_key], self._currency)\n",
    "            elif rate_invkey in Money.conversion_rate.keys():\n",
    "                return Money(self._amount + other._amount / Money.conversion_rate[rate_invkey], self._currency)\n",
    "            else:\n",
    "                raise ValueError(\"Trying to add Money objects of unknown and different currency\")\n",
    "            \n",
    "    def __sub__(self, other):\n",
    "        return self + (-other)\n",
    "    \n",
    "    def __neg__(self):\n",
    "        return Money(-self._amount, self._currency)\n",
    "    \n",
    "    def __str__(self):\n",
    "        return f'{self._amount} {self._currency}'\n",
    "    \n"
   ]
  },
  {
   "cell_type": "code",
   "execution_count": 0,
   "metadata": {
    "nbgrader": {
     "grade": true,
     "grade_id": "cell-73e7fae89242df32",
     "locked": true,
     "points": 1,
     "schema_version": 3,
     "solution": false
    }
   },
   "outputs": [],
   "source": [
    "#Verify class attribute\n",
    "assert Money.conversion_rate[\"SEK_PER_EUR\"] == 11.9, error_message(Money.conversion_rate[\"SEK_PER_EUR\"], 11.9)\n",
    "assert Money.conversion_rate[\"SEK_PER_USD\"] == 10.9, error_message(Money.conversion_rate[\"SEK_PER_USD\"], 10.9)"
   ]
  },
  {
   "cell_type": "code",
   "execution_count": 0,
   "metadata": {
    "nbgrader": {
     "grade": true,
     "grade_id": "cell-4181fe5f998c9a96",
     "locked": true,
     "points": 1,
     "schema_version": 3,
     "solution": false
    }
   },
   "outputs": [],
   "source": [
    "#Verify instance attributes\n",
    "ma = Money(100, 'SEK')\n",
    "mb = Money(50, 'EUR')\n",
    "assert ma.amount == 100, error_message(ma.amount, 100)\n",
    "assert ma.currency == 'SEK', error_message(ma.currency, 'SEK')\n",
    "assert mb.amount == 50, error_message(mb.amount, 50)\n",
    "assert mb.currency == 'EUR', error_message(mb.currency, 'EUR')"
   ]
  },
  {
   "cell_type": "code",
   "execution_count": 0,
   "metadata": {
    "nbgrader": {
     "grade": true,
     "grade_id": "cell-fa09de3f68f4fad3",
     "locked": true,
     "points": 1,
     "schema_version": 3,
     "solution": false
    }
   },
   "outputs": [],
   "source": [
    "#Verify addition\n",
    "ma = Money(100, 'SEK')\n",
    "mb = Money(50, 'EUR')\n",
    "mc = ma + mb\n",
    "assert mc.amount == 695, error_message(mc.amount, 695)\n",
    "assert mc.currency == 'SEK', error_message(mc.currency, 'SEK')\n",
    "\n",
    "#Verify addition\n",
    "ma = Money(100, 'EUR')\n",
    "mb = Money(50, 'SEK')\n",
    "mc = ma + mb\n",
    "assert mc.amount == approx(104.2016806722689), error_message(mc.amount, 104.2)\n",
    "assert mc.currency == 'EUR', error_message(mc.currency, 'EUR')"
   ]
  },
  {
   "cell_type": "code",
   "execution_count": 0,
   "metadata": {
    "nbgrader": {
     "grade": true,
     "grade_id": "cell-77d09f62ca89cb1d",
     "locked": true,
     "points": 1,
     "schema_version": 3,
     "solution": false
    }
   },
   "outputs": [],
   "source": [
    "#Verify subtraction\n",
    "ma = Money(100, 'SEK')\n",
    "mb = Money(50, 'EUR')\n",
    "md = mb - ma\n",
    "assert md.amount == approx(41.596638655462186), error_message(md.amount, 41.6)\n",
    "assert md.currency == 'EUR', error_message(md.currency, 'EUR')"
   ]
  },
  {
   "cell_type": "code",
   "execution_count": 0,
   "metadata": {
    "nbgrader": {
     "grade": true,
     "grade_id": "cell-c2d199586e7c4cbb",
     "locked": true,
     "points": 1,
     "schema_version": 3,
     "solution": false
    }
   },
   "outputs": [],
   "source": [
    "#Set conversion rate\n",
    "ma = Money(100, 'SEK')\n",
    "mb = Money(50, 'EUR')\n",
    "ma.set_conversion_rate({\"SEK_PER_EUR\":20})\n",
    "assert ma.conversion_rate[\"SEK_PER_EUR\"] == 20, error_message(ma.conversion_rate, 20)\n",
    "assert mb.conversion_rate[\"SEK_PER_EUR\"] == 20, error_message(mb.conversion_rate, 20)"
   ]
  },
  {
   "attachments": {},
   "cell_type": "markdown",
   "metadata": {},
   "source": [
    "## Inheritance, parent and child classes\n",
    "\n",
    "A main concept in object-oriented programming is inheritance.\n",
    "\n",
    "Some benefits of inheritance:\n",
    "* Represent the relationship between different objects that exists in the real world. (For instance, humans, cats, dogs, etc. are all animals)\n",
    "* Avoid replication of code. We do not need to rewrite similar code piece over and over again\n",
    "\n",
    "**Syntax of simple inheritance:**\n",
    "\n",
    "As a class (by default in Python 3 or explicitly in Python 2) inherits from the built-in `object` class \n",
    "\n",
    "```python\n",
    "class Parent(object): # Parent class inherits from the built-in object class\n",
    "    <body of code>\n",
    "\n",
    "class Child(ParentClass): #Child class inherits from the Parent class\n",
    "    <body of code>\n",
    "```\n",
    "\n",
    "A parent class (also called superclass or baseclass) is a class whose properties are inherited by the child class (also called subclass or derived class).\n",
    "\n",
    "**Ways to inherit from parent class:**\n",
    "* Simplest case is when child class do not implement its own `__init__`. Then it will automatically inherit its parent \n",
    "* When the child implements its own `__init__`, it must invoke `super().__init__()`. `super()` allows you to refer to the parent class\n",
    "\n",
    "```python\n",
    "class Parent:\n",
    "    def __init__(self):\n",
    "        print(\"parent initialization\")\n",
    "\n",
    "    def parent_method(self):\n",
    "        print('Calling parent method')\n",
    "\n",
    "class Child(Parent):\n",
    "    def __init__(self):\n",
    "        super().__init__(<inputs>) #<------- required when inheritance should be forced\n",
    "        print(\"Child initialization\")\n",
    "\n",
    "    def child_method(self):\n",
    "         print('Calling child method')\n",
    "```\n",
    "\n",
    "Besides inheriting all data attributes and methods from the parent class, the child class can:\n",
    "* introduce additional data attributes\n",
    "* introduce additional procedural attributes (methods)\n",
    "* override methods from the parent class (use the same name for the method in a child class as its parent class in order to override the behavior). This is called polymorphism.\n",
    "\n",
    "**Hierachies:**\n",
    "\n",
    "Child class can have methods with same name as superclass. So, how do we keep track of which one to use?\n",
    "1. For given class instance, look for a method name in current class definition\n",
    "2. If not present, look for method name up the hierarchy (that is, in parent, then grandparent, etc.)\n",
    "3. Use first method up the hierarchy that you found with that method name"
   ]
  },
  {
   "cell_type": "code",
   "execution_count": 0,
   "metadata": {},
   "outputs": [],
   "source": [
    "class Animal(object): \n",
    "    \"\"\"\n",
    "    A class to illustrate inheritance\n",
    "     \n",
    "    instance attributes:\n",
    "        name: (str) animal name\n",
    "        age: (int) animal age\n",
    "        \n",
    "    class methods:\n",
    "        __repr__: formal string representation of Animal\"\n",
    "        __str__: informal string representation of Animal\n",
    "    \"\"\"\n",
    "    animals = []\n",
    "\n",
    "    def __init__(self, name, age):\n",
    "        self._name = name\n",
    "        self._age = age\n",
    "\n",
    "    @property\n",
    "    def name(self):\n",
    "        return self._name\n",
    "    \n",
    "    @name.setter\n",
    "    def name(self, name):\n",
    "        self._name = name    \n",
    "\n",
    "    @property\n",
    "    def age(self):\n",
    "        return self._age\n",
    "    \n",
    "    @age.setter\n",
    "    def age(self, age):\n",
    "        self._age = age\n",
    "\n",
    "    def __repr__(self):\n",
    "        return f\"Animal({self.name},{self.age})\"\n",
    "    \n",
    "    def __str__(self):\n",
    "        return f\"Hello, I am an Animal named {self.name}. I am {self.age} years old.\""
   ]
  },
  {
   "cell_type": "code",
   "execution_count": 0,
   "metadata": {},
   "outputs": [],
   "source": [
    "# Let's now make two child classes derived from the Animal class\n",
    "# First, write a Cat class. It should introduce another data attribute color\n",
    "# It should override the __repr__ methods and return f\"Cat({self.name}, {self.age}, {self.color})\"\n",
    "# It should override the __str__ method and return f\"I am a Cat that can say meow\"\n",
    "\n",
    "class Cat(Animal):\n",
    "    def __init__(self, name, age, color): #<---- Invoked separate init for child class. Hence I user super()\n",
    "        super().__init__(name, age)\n",
    "        self._color = color\n",
    "\n",
    "    @property\n",
    "    def color(self):\n",
    "        return self._color\n",
    "    \n",
    "    def __repr__(self): #<------------- Overriding a method\n",
    "        return f\"Cat({self.name}, {self.age}, {self.color})\"\n",
    "    \n",
    "    def __str__(self): #<------------- Overriding a method\n",
    "        return f\"I am a Cat that can say meow\"\n",
    "\n"
   ]
  },
  {
   "cell_type": "code",
   "execution_count": 0,
   "metadata": {},
   "outputs": [],
   "source": [
    "# Now to the Person class. \n",
    "# It should introduce another data attribute job\n",
    "# It should override the __repr__ methods and return f\"Person({self.name}, {self.age}, {self.job})\"\n",
    "# It should override the __str__ method and return f\"My name is {self.name}. I am {self.age} years old and my job is {self.job}\"\n",
    "        \n",
    "class Person(Animal):\n",
    "    \n",
    "    def __init__(self, name, age, job):\n",
    "        super().__init__(name, age)\n",
    "        self._job = job\n",
    "    \n",
    "    @property\n",
    "    def job(self):\n",
    "        return self._job\n",
    "    \n",
    "    @job.setter\n",
    "    def job(self, job):\n",
    "        self._job = job\n",
    "    \n",
    "    def __repr__(self): #<------------- Overriding a method\n",
    "        return f\"Person({self.name}, {self.age}, {self.job})\"\n",
    "    \n",
    "    def __str__(self): # <-------------- Overriding a method\n",
    "        return f\"My name is {self.name}. I am {self.age} years old and my job is {self.job}\"\n",
    "    \n"
   ]
  },
  {
   "cell_type": "code",
   "execution_count": 0,
   "metadata": {},
   "outputs": [],
   "source": [
    "# Let us create a Person instance\n",
    "kevin = Person(\"Kevin\", 18, \"student\")\n",
    "\n",
    "# And a cat instance\n",
    "carlo = Cat(\"Carlo\", 2, \"brown\")"
   ]
  },
  {
   "cell_type": "code",
   "execution_count": 0,
   "metadata": {},
   "outputs": [],
   "source": [
    "assert kevin.name == \"Kevin\", error_message(kevin.name, \"Kevin\")\n",
    "assert kevin.age == 18, error_message(kevin.age, 18)\n",
    "assert kevin.job == \"student\", error_message(kevin.job, \"student\")\n",
    "assert str(kevin) == \"My name is Kevin. I am 18 years old and my job is student\", error_message(str(kevin), \"My name is Kevin. I am 18 years old and my job is student\")\n",
    "assert repr(kevin) == \"Person(Kevin, 18, student)\", error_message(repr(kevin), \"Person(Kevin, 18, student)\")\n",
    "assert carlo.name == \"Carlo\", error_message(carlo.name, \"Carlo\")\n",
    "assert carlo.age == 2, error_message(carlo.age, 2)\n",
    "assert carlo.color == \"brown\", error_message(carlo.color, \"brown\")\n",
    "assert str(carlo) == \"I am a Cat that can say meow\", error_message(str(carlo), \"I am a Cat that can say meow\")\n",
    "assert repr(carlo) == \"Cat(Carlo, 2, brown)\", error_message(repr(carlo), \"Cat(Carlo, 2, brown)\")"
   ]
  }
 ],
 "metadata": {
  "celltoolbar": "Create Assignment",
  "kernelspec": {
   "display_name": "Python 3",
   "language": "python",
   "name": "python3"
  },
  "language_info": {
   "codemirror_mode": {
    "name": "ipython",
    "version": 3
   },
   "file_extension": ".py",
   "mimetype": "text/x-python",
   "name": "python",
   "nbconvert_exporter": "python",
   "pygments_lexer": "ipython3",
   "version": "3.11.4"
  }
 },
 "nbformat": 4,
 "nbformat_minor": 2
}