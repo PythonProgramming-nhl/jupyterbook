{
 "cells": [
  {
   "attachments": {},
   "cell_type": "markdown",
   "metadata": {},
   "source": [
    "# Introduction to Matplotlib - Visualization with Python\n",
    "\n",
    "Matplotlib is a Python library for creating plots and visualizations (static, animated and interactive). \n",
    "\n",
    "* In this notebook, we will go through some of the basics to get you started \u2013 BUT \u2013 there are many many more opportunities. \n",
    "* You will need to explore those on your own and as relevant to the particular needs of your work.\n",
    "\n",
    "**IMPORTANT**\n",
    " * Go through the code step-by-step to understand what is going on\n",
    " * Every time you see a new Python/Matplotlib function/keyword - look up the documentation online and try out how it works\n",
    "\n",
    "Much more information and many more examples can be found [here](\\matplotlib.org)"
   ]
  },
  {
   "cell_type": "code",
   "execution_count": 0,
   "metadata": {},
   "outputs": [],
   "source": [
    "# Step 1 - import the matplotlib library and give it a short name\n",
    "import matplotlib.pyplot as plt\n",
    "from datetime import datetime # <--- additional library that we are going to use for an challenge in the end\n",
    "\n",
    "# Numpy arrays great for plotting numbers, so we will import that as well\n",
    "import numpy as np"
   ]
  },
  {
   "attachments": {},
   "cell_type": "markdown",
   "metadata": {
    "nbgrader": {
     "grade": false,
     "grade_id": "cell-5930d298e0fb0e89",
     "locked": true,
     "schema_version": 3,
     "solution": false,
     "task": false
    }
   },
   "source": [
    "## Let's start by plotting a sine function\n",
    "\n",
    "The function:\n",
    "\n",
    "$f(x) = y = \\sin(x)$\n",
    "\n",
    "### So, what do we need?\n",
    "\n",
    "1. A set of x-values covering the range of interest\n",
    "2. Evaluate the function at these x-values\n",
    "3. Plot the function values against the x-values\n",
    "4. Save the plot as a figure"
   ]
  },
  {
   "cell_type": "code",
   "execution_count": 0,
   "metadata": {},
   "outputs": [],
   "source": [
    "# Step 1 - Usese numpy linspace to create an array of 100 evenly spaced x-values from 0 to 2*pi.\n",
    "xvalues = np.linspace(0, 2 * np.pi, 100)\n",
    "\n",
    "# Step 2 - Use this array, we evaluate the function values\n",
    "yvalues = np.sin(xvalues)\n",
    "\n",
    "# Step 3 - Use the matplotlib.pyplot plot function to plot the x-values and associated y-values as a line\n",
    "plt.plot(xvalues, yvalues)\n",
    "\n",
    "# Step 4 - Save the plot as a png figure with name sine_plot\n",
    "plt.savefig(\"sine_plot.png\", dpi=300)"
   ]
  },
  {
   "attachments": {},
   "cell_type": "markdown",
   "metadata": {},
   "source": [
    "### Now this is not very pretty. \n",
    "\n",
    "**Beautification**\n",
    "* We forgot axis labels\n",
    "* We only want to show the plot for the range of x-values used\n",
    "* We want the plotted line to be red instead of blue, and it also needs to be a big thicker\n",
    "* We want the fonts to be bigger - both axis and tick labels"
   ]
  },
  {
   "cell_type": "code",
   "execution_count": 0,
   "metadata": {},
   "outputs": [],
   "source": [
    "# Change line width and color\n",
    "plt.plot(xvalues, yvalues, linewidth=2, color=\"red\")\n",
    "\n",
    "# Add axis labels and adjust their fontsize\n",
    "plt.xlabel(r\"$x$\", fontsize=14)\n",
    "plt.ylabel(r\"$f(x)$\", fontsize=14)\n",
    "\n",
    "# Change size of the tick labels\n",
    "plt.tick_params(axis=\"both\", labelsize=14)\n",
    "\n",
    "# Adjust plot range\n",
    "plt.xlim([0, 2 * np.pi])\n",
    "\n",
    "# Save the plot as a png figure with name sine_plot_beautified\n",
    "# The file extention (.png, -jpb, .pdf) give the respective format of the figure. The resolution can be indicated using dpi.\n",
    "plt.savefig(\"sine_plot_beautified.png\", dpi=300)"
   ]
  },
  {
   "attachments": {},
   "cell_type": "markdown",
   "metadata": {},
   "source": [
    "### If you have a series of (x, y) values, you can also plot them as separate points using matplotlib.pyplot scatter"
   ]
  },
  {
   "cell_type": "code",
   "execution_count": 0,
   "metadata": {},
   "outputs": [],
   "source": [
    "# This time I use a list just to show you that the inputs can be any float or array-like object\n",
    "xvalues = [2, 4, 7]\n",
    "yvalues = [1, 5, 8]\n",
    "\n",
    "colors = [\"red\", \"blue\", \"black\"]\n",
    "sizes = [20, 40, 80]\n",
    "\n",
    "plt.scatter(xvalues, yvalues, c=colors, marker=\"*\", s=sizes)"
   ]
  },
  {
   "attachments": {},
   "cell_type": "markdown",
   "metadata": {},
   "source": [
    "## Several subplots\n",
    "\n",
    "We can also make several plots in a figure by using the matplotlib.pyplot subplots function.\n",
    "\n",
    "Let's see an example below where we plot cosine in a plot to the left and sine in a plot to the right."
   ]
  },
  {
   "cell_type": "code",
   "execution_count": 0,
   "metadata": {},
   "outputs": [],
   "source": [
    "# Defining the x-values\n",
    "xvalues = np.linspace(0, 2 * np.pi)\n",
    "\n",
    "# Evaluating y-values\n",
    "cosine_values = np.cos(xvalues)\n",
    "sine_values = np.sin(xvalues)\n",
    "\n",
    "# Create a figure and two subplots (one row, two columns) and unpack the output subplot array immediately (in ax1 and ax2)\n",
    "# Also adjust the figure size to our liking\n",
    "fig, (ax1, ax2) = plt.subplots(nrows=1, ncols=2, figsize=(7, 3))\n",
    "\n",
    "# Plot cosine values in the first subplot\n",
    "ax1.plot(xvalues, cosine_values, label=\"Cosine\")\n",
    "\n",
    "# Plot sine values in the second subplot\n",
    "ax2.plot(xvalues, sine_values, label=\"Sine\")\n",
    "\n",
    "# Add axis labels (note the additional set_ in set_xlabel when you are working on axis objects instead of plt)\n",
    "ax1.set_xlabel(r\"$x$\")\n",
    "ax1.set_ylabel(r\"$\\cos(x)$\")\n",
    "ax2.set_xlabel(r\"$x$\")\n",
    "ax2.set_ylabel(r\"$\\sin(x)$\")\n",
    "\n",
    "# Add plot legends\n",
    "ax1.legend()\n",
    "ax2.legend()\n",
    "\n",
    "# Adjust plot range\n",
    "ax1.set_xlim([0, 2 * np.pi])\n",
    "ax2.set_xlim([0, 2 * np.pi])\n",
    "\n",
    "# To remove overlap between plots and labels\n",
    "plt.subplots_adjust(wspace=0.4)\n",
    "\n",
    "# Label the subplots with a) and b) for easier referencing when used as a figure in a publication\n",
    "# The transform = ax.transAxes allows you to position the text by coordinates relative to the exes on a scale from 0 to 1.\n",
    "# If you do not provide this argument, the text function will assume the actual coordinates\n",
    "\n",
    "ax1.text(\n",
    "    -0.3, 1, \"a)\", fontsize=14, fontweight=\"bold\", color=\"blue\", transform=ax1.transAxes\n",
    ")\n",
    "ax2.text(\n",
    "    -0.3,\n",
    "    1,\n",
    "    \"b)\",\n",
    "    fontsize=14,\n",
    "    fontweight=\"bold\",\n",
    "    color=\"green\",\n",
    "    transform=ax2.transAxes,\n",
    ")"
   ]
  },
  {
   "attachments": {},
   "cell_type": "markdown",
   "metadata": {},
   "source": [
    "## Matplotlib Challenge\n",
    "\n",
    "Now it is your turn.\n",
    "\n",
    "Below is a figure based on some data. Provided this data, your task is to reproduce the figure as closely as possible.\n",
    "\n",
    "The example data is a truncated set of historical weather data from Stockholm, retrieved from the [Bolin Centre for Climate Research](https://bolin.su.se/data/stockholm-historical-daily-temperature-2?n=stockholm-historical-temps-daily-2), Stockholm University.\n",
    "\n",
    "**Take notice of the following features**\n",
    "* 2 subplots with shared x-axis\n",
    "* y=0 degrees line in both plots\n",
    "* legend in top right corner showing the plotted labels without a frame\n",
    "* Title in plot\n",
    "* Centered y-axis label\n",
    "* No distance between plots\n",
    "* Top plot:\n",
    "    * fill between the average time of year (toy) +/- the std.dev. temperature\n",
    "    * Plot of the average time of year (toy) temperature\n",
    "    * No x-tick labels\n",
    "* Bottom plot:\n",
    "    * Plot the daily mean temperature\n",
    "\n",
    "There is some starter code that loads the data in the cell below the plot."
   ]
  },
  {
   "attachments": {},
   "cell_type": "markdown",
   "metadata": {},
   "source": [
    "![daily_avg_temperature](daily_avg_temperature.png)"
   ]
  },
  {
   "cell_type": "code",
   "execution_count": 0,
   "metadata": {},
   "outputs": [],
   "source": [
    "# --------------------------------------------\n",
    "# Plotting task starting code\n",
    "# Loading the data and fixing the data types\n",
    "# --------------------------------------------\n",
    "data = np.loadtxt(\n",
    "    \"stockholm_daily_mean_avg_std_temperature.csv\",\n",
    "    delimiter=\",\",\n",
    "    usecols=(0, 1, 2, 3),\n",
    "    skiprows=1,\n",
    "    dtype=object,\n",
    "    converters={\n",
    "        0: lambda x: datetime.strptime(x.decode(), \"%Y-%m-%d\"),\n",
    "        1: float,\n",
    "        2: float,\n",
    "        3: float,\n",
    "    },\n",
    ")\n",
    "dates = data[:, 0]\n",
    "daily_mean = data[:, 1].astype(float)\n",
    "avg_toy = data[:, 2].astype(float)\n",
    "stddev_toy = data[:, 3].astype(float)\n",
    "# --------------------------------------------\n",
    "\n",
    "fig, (ax1, ax2) = plt.subplots(2, 1)\n",
    "fig.text(\n",
    "    0.02,\n",
    "    0.5,\n",
    "    r\"Temperature [$\\degree$C]\",\n",
    "    ha=\"center\",\n",
    "    va=\"center\",\n",
    "    rotation=90,\n",
    "    fontsize=12,\n",
    ")\n",
    "\n",
    "x_values = np.arange(len(data[:, 0]))\n",
    "\n",
    "ax1.set_title(\"Temperatures over time\")\n",
    "ax1.axhline(y=0, color=\"k\", linewidth=0.8)\n",
    "ax1.fill_between(\n",
    "    dates,\n",
    "    avg_toy - stddev_toy,\n",
    "    avg_toy + stddev_toy,\n",
    "    color=\"r\",\n",
    "    alpha=0.2,\n",
    "    label=\"Std.dev.\",\n",
    ")\n",
    "ax1.plot(dates, avg_toy, \"grey\", linewidth=2, label=\"Mean temp\")\n",
    "ax1.legend(frameon=False, loc=\"upper right\")\n",
    "ax1.set_ylim([-15, 35])\n",
    "ax1.set_xlim([datetime(2017, 1, 1), datetime(2023, 6, 1)])\n",
    "ax1.xaxis.set_ticklabels([])\n",
    "\n",
    "# # Plot the actual data\n",
    "ax2.axhline(y=0, color=\"k\", linewidth=0.8)\n",
    "ax2.plot(dates, daily_mean, \"r\", linewidth=1.0, label=\"Actual temp\")\n",
    "ax2.legend(frameon=False, loc=\"upper right\")\n",
    "ax2.set_ylim([-15, 35])\n",
    "ax2.set_xlim([datetime(2017, 1, 1), datetime(2023, 6, 1)])\n",
    "ax2.set_xlabel(\"Date\", fontsize=12)\n",
    "plt.subplots_adjust(left=0.1, hspace=0)\n",
    "plt.savefig(\"daily_avg_temperature.png\")\n",
    "\n",
    "\n",
    "# Hint for xlims\n",
    "# plt.xlim([datetime(2017, 1, 1), datetime(2023, 6, 1)])"
   ]
  }
 ],
 "metadata": {
  "celltoolbar": "Create Assignment",
  "kernelspec": {
   "display_name": "Python 3",
   "language": "python",
   "name": "python3"
  },
  "language_info": {
   "codemirror_mode": {
    "name": "ipython",
    "version": 3
   },
   "file_extension": ".py",
   "mimetype": "text/x-python",
   "name": "python",
   "nbconvert_exporter": "python",
   "pygments_lexer": "ipython3",
   "version": "3.11.4"
  }
 },
 "nbformat": 4,
 "nbformat_minor": 2
}